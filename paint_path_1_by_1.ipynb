{
  "nbformat": 4,
  "nbformat_minor": 0,
  "metadata": {
    "colab": {
      "name": "paint path 1 by 1.ipynb",
      "provenance": [],
      "collapsed_sections": [],
      "include_colab_link": true
    },
    "kernelspec": {
      "name": "python3",
      "display_name": "Python 3"
    }
  },
  "cells": [
    {
      "cell_type": "markdown",
      "metadata": {
        "id": "view-in-github",
        "colab_type": "text"
      },
      "source": [
        "<a href=\"https://colab.research.google.com/github/nickdehaene/git_sessie/blob/master/paint_path_1_by_1.ipynb\" target=\"_parent\"><img src=\"https://colab.research.google.com/assets/colab-badge.svg\" alt=\"Open In Colab\"/></a>"
      ]
    },
    {
      "cell_type": "code",
      "metadata": {
        "id": "MAG9W7WEkBWl",
        "colab_type": "code",
        "outputId": "81946279-f82a-40ac-9f00-d7dbb3ec433b",
        "colab": {
          "base_uri": "https://localhost:8080/",
          "height": 254
        }
      },
      "source": [
        "# These lines will update the dependencies in this Jupyter notebook\n",
        "# Author  Nick Dehaene 22/04/2020\n",
        "!pip install -qq -U 'datascience' 'albumentations==0.3.3'\n",
        "!pip install -qq  'opencv-python==4.1.1.26' --force-reinstall\n",
        "!pip install -qq 'ipywebrtc' 'mpld3'\n",
        "\n",
        "from __future__ import print_function\n",
        "from ipywidgets import interact, interactive, fixed, interact_manual\n",
        "import ipywidgets as widgets\n",
        "from IPython.display import *\n",
        "\n",
        "import cv2\n",
        "import numpy as np\n",
        "import matplotlib.pyplot as plt \n",
        "import copy\n",
        "import math\n",
        "\n",
        "import mpld3\n",
        "from mpld3 import plugins\n",
        "from PIL import Image, ImageDraw, ImageFont\n",
        "cv2.__version__"
      ],
      "execution_count": 1,
      "outputs": [
        {
          "output_type": "stream",
          "text": [
            "\u001b[K     |████████████████████████████████| 51kB 1.8MB/s \n",
            "\u001b[K     |████████████████████████████████| 92kB 4.3MB/s \n",
            "\u001b[K     |████████████████████████████████| 92kB 6.4MB/s \n",
            "\u001b[K     |████████████████████████████████| 634kB 8.9MB/s \n",
            "\u001b[?25h  Building wheel for datascience (setup.py) ... \u001b[?25l\u001b[?25hdone\n",
            "  Building wheel for albumentations (setup.py) ... \u001b[?25l\u001b[?25hdone\n",
            "  Building wheel for imgaug (setup.py) ... \u001b[?25l\u001b[?25hdone\n",
            "\u001b[K     |████████████████████████████████| 28.7MB 143kB/s \n",
            "\u001b[K     |████████████████████████████████| 20.2MB 1.3MB/s \n",
            "\u001b[K     |████████████████████████████████| 1.1MB 2.8MB/s \n",
            "\u001b[K     |████████████████████████████████| 798kB 45.2MB/s \n",
            "\u001b[?25h  Building wheel for mpld3 (setup.py) ... \u001b[?25l\u001b[?25hdone\n"
          ],
          "name": "stdout"
        },
        {
          "output_type": "execute_result",
          "data": {
            "text/plain": [
              "'4.1.1'"
            ]
          },
          "metadata": {
            "tags": []
          },
          "execution_count": 1
        }
      ]
    },
    {
      "cell_type": "code",
      "metadata": {
        "id": "xdK6nYQamKHJ",
        "colab_type": "code",
        "colab": {}
      },
      "source": [
        "#foto inladen\n",
        "img = Image.open(\"path.png\")"
      ],
      "execution_count": 0,
      "outputs": []
    },
    {
      "cell_type": "code",
      "metadata": {
        "id": "W3q-d9dPpVQt",
        "colab_type": "code",
        "colab": {}
      },
      "source": [
        "#Input for the program (position coordinate and the color)\n",
        "def Draw(x,y,color,image):\n",
        "  imagePath = image\n",
        "  img = Image.open(imagePath)\n",
        "  w,h=500,500\n",
        "  newsize = (w,h)\n",
        "  k = int(w/2)\n",
        "  imgres = img.resize(newsize) \n",
        "  pos = tuple([x,y])\n",
        "#draw the point on the path.png file75\n",
        "  draw = ImageDraw.Draw(imgres)\n",
        "  i = 0\n",
        "  j = 0\n",
        "  for i in range(-3,i<3,1):\n",
        "    for j in range(-3,j<3,1):\n",
        "      draw.point([(k+pos[0]+i,k+pos[1]+j)],fill=color)\n",
        "  imgres.save(imagePath)"
      ],
      "execution_count": 0,
      "outputs": []
    },
    {
      "cell_type": "code",
      "metadata": {
        "id": "FxvlxDAynFXi",
        "colab_type": "code",
        "colab": {}
      },
      "source": [
        "Draw(50,50,\"red\",\"/content/sample_data/vierkant.jpg\")"
      ],
      "execution_count": 0,
      "outputs": []
    },
    {
      "cell_type": "markdown",
      "metadata": {
        "id": "v8p7xmTvmMLU",
        "colab_type": "text"
      },
      "source": [
        "# New Section"
      ]
    },
    {
      "cell_type": "code",
      "metadata": {
        "id": "rhCjGH4Wm4qc",
        "colab_type": "code",
        "colab": {}
      },
      "source": [
        ""
      ],
      "execution_count": 0,
      "outputs": []
    }
  ]
}